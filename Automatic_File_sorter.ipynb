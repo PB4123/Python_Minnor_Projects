{
 "cells": [
  {
   "cell_type": "markdown",
   "id": "98f01085-37ea-4888-9c3e-764c1478053d",
   "metadata": {},
   "source": [
    "# Automatic File Sorter in File Exploer"
   ]
  },
  {
   "cell_type": "code",
   "execution_count": 1,
   "id": "534a9b99-5b05-4f09-93e2-c2efe69374a4",
   "metadata": {},
   "outputs": [
    {
     "name": "stdout",
     "output_type": "stream",
     "text": [
      "C:\\Users\\ASUS\\Documents\\Python Scripts\\Python_tt/csv files\n",
      "C:\\Users\\ASUS\\Documents\\Python Scripts\\Python_tt/ image files\n",
      "C:\\Users\\ASUS\\Documents\\Python Scripts\\Python_tt/text files\n"
     ]
    }
   ],
   "source": [
    "import os ,shutil\n",
    "path = r\"C:\\Users\\ASUS\\Documents\\Python Scripts\\Python_tt/\"\n",
    "file_name =  os.listdir(path)\n",
    "folder_names = ['csv files' , ' image files','text files']\n",
    "\n",
    "for loop in range(0,3):\n",
    "    if not  os.path.exists(path +folder_names[loop]):\n",
    "        print(path +folder_names[loop])\n",
    "        os.makedirs(path +folder_names[loop])\n",
    "\n",
    "for file in file_name:\n",
    "    if \".png\" in file and not os.path.exists(path +\"image files/\" + file):\n",
    "        shutil.move(path + file, path +\"image files/\" + file)\n",
    "    elif \".csv\" in file and not os.path.exists(path +\"csv files/\" + file):\n",
    "        shutil.move(path + file, path +\"csv files/\" + file)\n",
    "    elif \".text\" in file and not os.path.exists(path +\"text files/\" + file):\n",
    "        shutil.move(path + file, path +\"text files/\" + file)\n",
    "  \n"
   ]
  },
  {
   "cell_type": "code",
   "execution_count": null,
   "id": "080d81f7-e330-48a8-80ec-8d56c0eff493",
   "metadata": {},
   "outputs": [],
   "source": []
  }
 ],
 "metadata": {
  "kernelspec": {
   "display_name": "Python 3 (ipykernel)",
   "language": "python",
   "name": "python3"
  },
  "language_info": {
   "codemirror_mode": {
    "name": "ipython",
    "version": 3
   },
   "file_extension": ".py",
   "mimetype": "text/x-python",
   "name": "python",
   "nbconvert_exporter": "python",
   "pygments_lexer": "ipython3",
   "version": "3.12.4"
  }
 },
 "nbformat": 4,
 "nbformat_minor": 5
}
